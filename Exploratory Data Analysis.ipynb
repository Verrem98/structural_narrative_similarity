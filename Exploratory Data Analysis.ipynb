{
 "cells": [
  {
   "cell_type": "markdown",
   "id": "5e25ea09-74d6-47e6-bad6-e922f52c3532",
   "metadata": {},
   "source": [
    "# Personal Information\n",
    "Name: **Emiel Verhoef**\n",
    "\n",
    "StudentID: **15617483**\n",
    "\n",
    "Email: [**emiel.verhoef@student.uva.nl**](emiel.verhoef@student.uva.nl)\n",
    "\n",
    "Submitted on: **01.01.1000**"
   ]
  },
  {
   "cell_type": "markdown",
   "id": "e3cf6243-adfe-4eb8-bba3-bb2835079abd",
   "metadata": {},
   "source": [
    "# Data Context\n",
    "In this EDA we will look at two different datasets:\n",
    "\n",
    "### Story Similarity Data\n",
    "This dataset consists of 512 annotations of [reference_story, story A, story B, participant_id, choice] where the choice column indicates which story, out of story A and B, is most similar to the reference story according to the participant. The reference stories have been artificially generated. A sample:\n",
    "\n",
    "\"Tom walks to the Crossroads.\n",
    "\n",
    "Tom walks to the Market.\n",
    "\n",
    "Tom buys the Merchant's Sword from the Merchant using his coin.\n",
    "\n",
    "Tom robs The Merchant and takes the Potion.\n",
    "\n",
    "Tom walks to the Crossroads.\n",
    "\n",
    "Tom walks to his Cottage.\"\n",
    "\n",
    "### Tell Me Again!\n",
    "\n",
    "This dataset consists of 96831 individial summaries of movie plots across 9505 unique movies."
   ]
  },
  {
   "cell_type": "markdown",
   "id": "a833d964-56e1-49c7-8172-7435357624aa",
   "metadata": {},
   "source": [
    "# Data Description\n",
    "\n",
    "**Present here the results of your exploratory data analysis. Note that there is no need to have a \"story line\" - it is more important that you show your understanding of the data and the methods that you will be using in your experiments (i.e. your methodology).**\n",
    "\n",
    "**As an example, you could show data, label, or group balances, skewness, and basic characterizations of the data. Information about data frequency and distributions as well as results from reduction mechanisms such as PCA could be useful. Furthermore, indicate outliers and how/why you are taking them out of your samples, if you do so.**\n",
    "\n",
    "**The idea is, that you conduct this analysis to a) understand the data better but b) also to verify the shapes of the distributions and whether they meet the assumptions of the methods that you will attempt to use. Finally, make good use of images, diagrams, and tables to showcase what information you have extracted from your data.**\n",
    "\n",
    "As you can see, you are in a jupyter notebook environment here. This means that you should focus little on writing text and more on actually exploring your data. If you need to, you can use the amsmath environment in-line: $e=mc^2$ or also in separate equations such as here:\n",
    "\n",
    "\\begin{equation}\n",
    "    e=mc^2 \\mathrm{\\space where \\space} e,m,c\\in \\mathbb{R}\n",
    "\\end{equation}\n",
    "\n",
    "Furthermore, you can insert images such as your data aggregation diagrams like this:\n",
    "\n",
    "![image](example.png)"
   ]
  },
  {
   "cell_type": "code",
   "execution_count": 1,
   "id": "534317db-d881-4e33-a358-754e2881e8bd",
   "metadata": {},
   "outputs": [],
   "source": [
    "# Imports\n",
    "import os\n",
    "import numpy as np\n",
    "import pandas as pd\n",
    "import json"
   ]
  },
  {
   "cell_type": "markdown",
   "id": "b582b299-f599-4140-a454-bcbfdeeb273f",
   "metadata": {},
   "source": [
    "### Data Loading"
   ]
  },
  {
   "cell_type": "markdown",
   "id": "675f28c8-7a56-432f-9322-b4958bfde554",
   "metadata": {},
   "source": [
    "### Story Similarity Data"
   ]
  },
  {
   "cell_type": "code",
   "execution_count": 2,
   "id": "9f0cf9be-2cac-4227-957f-ad893212e70c",
   "metadata": {},
   "outputs": [],
   "source": [
    "story_similarity_data_annotations = pd.read_csv(\"story_similarity_data/data.csv\")\n",
    "\n",
    "data = {}\n",
    "current_section = None\n",
    "with open(\"story_similarity_data/english.txt\", \"r\") as file:\n",
    "    for line in file:\n",
    "        line = line.strip()\n",
    "        if line.isdigit(): \n",
    "            ID = int(line)\n",
    "            data[ID] = []  \n",
    "        elif line:  \n",
    "            data[ID].append(line)\n",
    "story_similarity_data_stories = pd.DataFrame(\n",
    "    {\"ID\": data.keys(), \"story\": [\" \".join(events) for events in data.values()]}\n",
    ")\n"
   ]
  },
  {
   "cell_type": "code",
   "execution_count": 3,
   "id": "04516b99-2d65-498c-9e66-8e4e0549bafd",
   "metadata": {},
   "outputs": [],
   "source": [
    "def fetch_story(df, ID):\n",
    "\n",
    "    return df[df['ID'] == ID].story.tolist()[0]"
   ]
  },
  {
   "cell_type": "code",
   "execution_count": 4,
   "id": "985366d9-9588-4fbc-967a-945e053acb2e",
   "metadata": {},
   "outputs": [],
   "source": [
    "story_similarity_data = story_similarity_data_annotations.copy()"
   ]
  },
  {
   "cell_type": "code",
   "execution_count": 5,
   "id": "9b081353-cb6c-459d-af3f-32e10969e0d3",
   "metadata": {},
   "outputs": [],
   "source": [
    "story_similarity_data[\"story_reference\"] = story_similarity_data[\"reference\"].apply(lambda x: fetch_story(story_similarity_data_stories, x))\n",
    "story_similarity_data[\"story_A\"] = story_similarity_data[\"A\"].apply(lambda x: fetch_story(story_similarity_data_stories, x))\n",
    "story_similarity_data[\"story_B\"] = story_similarity_data[\"B\"].apply(lambda x: fetch_story(story_similarity_data_stories, x))"
   ]
  },
  {
   "cell_type": "code",
   "execution_count": 6,
   "id": "29577fe8-7c5b-48f4-8530-780c90db30ff",
   "metadata": {},
   "outputs": [
    {
     "data": {
      "text/plain": [
       "'A'"
      ]
     },
     "execution_count": 6,
     "metadata": {},
     "output_type": "execute_result"
    }
   ],
   "source": [
    "story_similarity_data.iloc[0].choice"
   ]
  },
  {
   "cell_type": "code",
   "execution_count": 7,
   "id": "dedde554-cbdf-4305-ac1b-3c5578f0afe4",
   "metadata": {},
   "outputs": [
    {
     "data": {
      "text/plain": [
       "'The Bandit walks to the Market. Tom walks to the Crossroads. The Bandit walks to the Crossroads. The Guard walks to the Crossroads. The Bandit attacks Tom.'"
      ]
     },
     "execution_count": 7,
     "metadata": {},
     "output_type": "execute_result"
    }
   ],
   "source": [
    "story_similarity_data.iloc[0].story_reference"
   ]
  },
  {
   "cell_type": "code",
   "execution_count": 8,
   "id": "53c74b53-c786-4b70-b21b-0d17414d3278",
   "metadata": {},
   "outputs": [
    {
     "data": {
      "text/plain": [
       "\"Tom walks to the Crossroads. Tom walks to the Merchant's House. The Bandit walks to the Merchant's House. The Bandit attacks Tom.\""
      ]
     },
     "execution_count": 8,
     "metadata": {},
     "output_type": "execute_result"
    }
   ],
   "source": [
    "story_similarity_data.iloc[0].story_A"
   ]
  },
  {
   "cell_type": "code",
   "execution_count": 9,
   "id": "6d310e33-1cc6-4a9c-b668-2cb671a22b5f",
   "metadata": {},
   "outputs": [
    {
     "data": {
      "text/plain": [
       "'Tom walks to the Crossroads. Tom walks to the Market. Tom buys the Potion from the Merchant using his coin. Tom waits for night. Later that night, Tom walks to the Crossroads. Tom walks to his Cottage.'"
      ]
     },
     "execution_count": 9,
     "metadata": {},
     "output_type": "execute_result"
    }
   ],
   "source": [
    "story_similarity_data.iloc[0].story_B"
   ]
  },
  {
   "cell_type": "code",
   "execution_count": 10,
   "id": "7180841f-5454-47a2-8d70-0219516ea23c",
   "metadata": {},
   "outputs": [
    {
     "data": {
      "text/html": [
       "<div>\n",
       "<style scoped>\n",
       "    .dataframe tbody tr th:only-of-type {\n",
       "        vertical-align: middle;\n",
       "    }\n",
       "\n",
       "    .dataframe tbody tr th {\n",
       "        vertical-align: top;\n",
       "    }\n",
       "\n",
       "    .dataframe thead th {\n",
       "        text-align: right;\n",
       "    }\n",
       "</style>\n",
       "<table border=\"1\" class=\"dataframe\">\n",
       "  <thead>\n",
       "    <tr style=\"text-align: right;\">\n",
       "      <th></th>\n",
       "      <th>reference</th>\n",
       "      <th>A</th>\n",
       "      <th>B</th>\n",
       "      <th>participant</th>\n",
       "      <th>choice</th>\n",
       "      <th>story_reference</th>\n",
       "      <th>story_A</th>\n",
       "      <th>story_B</th>\n",
       "    </tr>\n",
       "  </thead>\n",
       "  <tbody>\n",
       "    <tr>\n",
       "      <th>0</th>\n",
       "      <td>3</td>\n",
       "      <td>56</td>\n",
       "      <td>4</td>\n",
       "      <td>1</td>\n",
       "      <td>A</td>\n",
       "      <td>The Bandit walks to the Market. Tom walks to t...</td>\n",
       "      <td>Tom walks to the Crossroads. Tom walks to the ...</td>\n",
       "      <td>Tom walks to the Crossroads. Tom walks to the ...</td>\n",
       "    </tr>\n",
       "    <tr>\n",
       "      <th>1</th>\n",
       "      <td>3</td>\n",
       "      <td>56</td>\n",
       "      <td>4</td>\n",
       "      <td>2</td>\n",
       "      <td>A</td>\n",
       "      <td>The Bandit walks to the Market. Tom walks to t...</td>\n",
       "      <td>Tom walks to the Crossroads. Tom walks to the ...</td>\n",
       "      <td>Tom walks to the Crossroads. Tom walks to the ...</td>\n",
       "    </tr>\n",
       "    <tr>\n",
       "      <th>2</th>\n",
       "      <td>3</td>\n",
       "      <td>56</td>\n",
       "      <td>4</td>\n",
       "      <td>3</td>\n",
       "      <td>A</td>\n",
       "      <td>The Bandit walks to the Market. Tom walks to t...</td>\n",
       "      <td>Tom walks to the Crossroads. Tom walks to the ...</td>\n",
       "      <td>Tom walks to the Crossroads. Tom walks to the ...</td>\n",
       "    </tr>\n",
       "    <tr>\n",
       "      <th>3</th>\n",
       "      <td>3</td>\n",
       "      <td>56</td>\n",
       "      <td>4</td>\n",
       "      <td>4</td>\n",
       "      <td>A</td>\n",
       "      <td>The Bandit walks to the Market. Tom walks to t...</td>\n",
       "      <td>Tom walks to the Crossroads. Tom walks to the ...</td>\n",
       "      <td>Tom walks to the Crossroads. Tom walks to the ...</td>\n",
       "    </tr>\n",
       "    <tr>\n",
       "      <th>4</th>\n",
       "      <td>3</td>\n",
       "      <td>56</td>\n",
       "      <td>4</td>\n",
       "      <td>5</td>\n",
       "      <td>A</td>\n",
       "      <td>The Bandit walks to the Market. Tom walks to t...</td>\n",
       "      <td>Tom walks to the Crossroads. Tom walks to the ...</td>\n",
       "      <td>Tom walks to the Crossroads. Tom walks to the ...</td>\n",
       "    </tr>\n",
       "    <tr>\n",
       "      <th>...</th>\n",
       "      <td>...</td>\n",
       "      <td>...</td>\n",
       "      <td>...</td>\n",
       "      <td>...</td>\n",
       "      <td>...</td>\n",
       "      <td>...</td>\n",
       "      <td>...</td>\n",
       "      <td>...</td>\n",
       "    </tr>\n",
       "    <tr>\n",
       "      <th>507</th>\n",
       "      <td>5</td>\n",
       "      <td>42</td>\n",
       "      <td>41</td>\n",
       "      <td>60</td>\n",
       "      <td>A</td>\n",
       "      <td>Tom waits for night. Later that night, Tom wal...</td>\n",
       "      <td>The Bandit walks to the Market. Tom walks to t...</td>\n",
       "      <td>Tom walks to the Crossroads. The Bandit attack...</td>\n",
       "    </tr>\n",
       "    <tr>\n",
       "      <th>508</th>\n",
       "      <td>5</td>\n",
       "      <td>42</td>\n",
       "      <td>41</td>\n",
       "      <td>61</td>\n",
       "      <td>A</td>\n",
       "      <td>Tom waits for night. Later that night, Tom wal...</td>\n",
       "      <td>The Bandit walks to the Market. Tom walks to t...</td>\n",
       "      <td>Tom walks to the Crossroads. The Bandit attack...</td>\n",
       "    </tr>\n",
       "    <tr>\n",
       "      <th>509</th>\n",
       "      <td>5</td>\n",
       "      <td>42</td>\n",
       "      <td>41</td>\n",
       "      <td>62</td>\n",
       "      <td>A</td>\n",
       "      <td>Tom waits for night. Later that night, Tom wal...</td>\n",
       "      <td>The Bandit walks to the Market. Tom walks to t...</td>\n",
       "      <td>Tom walks to the Crossroads. The Bandit attack...</td>\n",
       "    </tr>\n",
       "    <tr>\n",
       "      <th>510</th>\n",
       "      <td>5</td>\n",
       "      <td>42</td>\n",
       "      <td>41</td>\n",
       "      <td>63</td>\n",
       "      <td>A</td>\n",
       "      <td>Tom waits for night. Later that night, Tom wal...</td>\n",
       "      <td>The Bandit walks to the Market. Tom walks to t...</td>\n",
       "      <td>Tom walks to the Crossroads. The Bandit attack...</td>\n",
       "    </tr>\n",
       "    <tr>\n",
       "      <th>511</th>\n",
       "      <td>5</td>\n",
       "      <td>42</td>\n",
       "      <td>41</td>\n",
       "      <td>64</td>\n",
       "      <td>A</td>\n",
       "      <td>Tom waits for night. Later that night, Tom wal...</td>\n",
       "      <td>The Bandit walks to the Market. Tom walks to t...</td>\n",
       "      <td>Tom walks to the Crossroads. The Bandit attack...</td>\n",
       "    </tr>\n",
       "  </tbody>\n",
       "</table>\n",
       "<p>512 rows × 8 columns</p>\n",
       "</div>"
      ],
      "text/plain": [
       "     reference   A   B  participant choice  \\\n",
       "0            3  56   4            1      A   \n",
       "1            3  56   4            2      A   \n",
       "2            3  56   4            3      A   \n",
       "3            3  56   4            4      A   \n",
       "4            3  56   4            5      A   \n",
       "..         ...  ..  ..          ...    ...   \n",
       "507          5  42  41           60      A   \n",
       "508          5  42  41           61      A   \n",
       "509          5  42  41           62      A   \n",
       "510          5  42  41           63      A   \n",
       "511          5  42  41           64      A   \n",
       "\n",
       "                                       story_reference  \\\n",
       "0    The Bandit walks to the Market. Tom walks to t...   \n",
       "1    The Bandit walks to the Market. Tom walks to t...   \n",
       "2    The Bandit walks to the Market. Tom walks to t...   \n",
       "3    The Bandit walks to the Market. Tom walks to t...   \n",
       "4    The Bandit walks to the Market. Tom walks to t...   \n",
       "..                                                 ...   \n",
       "507  Tom waits for night. Later that night, Tom wal...   \n",
       "508  Tom waits for night. Later that night, Tom wal...   \n",
       "509  Tom waits for night. Later that night, Tom wal...   \n",
       "510  Tom waits for night. Later that night, Tom wal...   \n",
       "511  Tom waits for night. Later that night, Tom wal...   \n",
       "\n",
       "                                               story_A  \\\n",
       "0    Tom walks to the Crossroads. Tom walks to the ...   \n",
       "1    Tom walks to the Crossroads. Tom walks to the ...   \n",
       "2    Tom walks to the Crossroads. Tom walks to the ...   \n",
       "3    Tom walks to the Crossroads. Tom walks to the ...   \n",
       "4    Tom walks to the Crossroads. Tom walks to the ...   \n",
       "..                                                 ...   \n",
       "507  The Bandit walks to the Market. Tom walks to t...   \n",
       "508  The Bandit walks to the Market. Tom walks to t...   \n",
       "509  The Bandit walks to the Market. Tom walks to t...   \n",
       "510  The Bandit walks to the Market. Tom walks to t...   \n",
       "511  The Bandit walks to the Market. Tom walks to t...   \n",
       "\n",
       "                                               story_B  \n",
       "0    Tom walks to the Crossroads. Tom walks to the ...  \n",
       "1    Tom walks to the Crossroads. Tom walks to the ...  \n",
       "2    Tom walks to the Crossroads. Tom walks to the ...  \n",
       "3    Tom walks to the Crossroads. Tom walks to the ...  \n",
       "4    Tom walks to the Crossroads. Tom walks to the ...  \n",
       "..                                                 ...  \n",
       "507  Tom walks to the Crossroads. The Bandit attack...  \n",
       "508  Tom walks to the Crossroads. The Bandit attack...  \n",
       "509  Tom walks to the Crossroads. The Bandit attack...  \n",
       "510  Tom walks to the Crossroads. The Bandit attack...  \n",
       "511  Tom walks to the Crossroads. The Bandit attack...  \n",
       "\n",
       "[512 rows x 8 columns]"
      ]
     },
     "execution_count": 10,
     "metadata": {},
     "output_type": "execute_result"
    }
   ],
   "source": [
    "story_similarity_data"
   ]
  },
  {
   "cell_type": "markdown",
   "id": "693c5214-9bda-45c5-b2dc-d2e56f9225d5",
   "metadata": {},
   "source": [
    "### Tell Me Again!"
   ]
  },
  {
   "cell_type": "code",
   "execution_count": 39,
   "id": "4c887c9c-2086-46bb-9e8b-3ed4b03cf56a",
   "metadata": {},
   "outputs": [],
   "source": [
    "def load_all_json_files(root_folder):\n",
    "    data_dict = {}\n",
    "    \n",
    "    for subdir, _, files in os.walk(root_folder):\n",
    "        for filename in files:\n",
    "            if filename.endswith(\".json\"):\n",
    "                file_path = os.path.join(subdir, filename)\n",
    "                try:\n",
    "                    with open(file_path, 'r', encoding='utf-8') as f:\n",
    "                        data_dict[file_path] = json.load(f)\n",
    "                except json.JSONDecodeError as e:\n",
    "                    print(f\"Error loading {file_path}: {e}\")\n",
    "    \n",
    "    return data_dict\n",
    "\n",
    "root_folder = \"tell_me_again_v1/summaries\"\n",
    "json_data = load_all_json_files(root_folder)"
   ]
  },
  {
   "cell_type": "code",
   "execution_count": 61,
   "id": "6054882d-b0bf-4343-9ed3-daef3a9c8b02",
   "metadata": {},
   "outputs": [],
   "source": [
    "tell_me_again_data = pd.DataFrame(json_data).T"
   ]
  },
  {
   "cell_type": "code",
   "execution_count": 62,
   "id": "6f8f8c62-de04-431a-aba6-d9de0263407b",
   "metadata": {},
   "outputs": [],
   "source": [
    "tell_me_again_data = tell_me_again_data[[\"wikidata_id\", \"title\", \"en_translated_summaries\"]]\n",
    "# create rows for every unique language summary\n",
    "exploded = tell_me_again_data.explode('en_translated_summaries').rename(columns = {'en_translated_summaries':'language'})"
   ]
  },
  {
   "cell_type": "code",
   "execution_count": 63,
   "id": "15431b81-27eb-4ff5-8c44-e5346c138a84",
   "metadata": {},
   "outputs": [],
   "source": [
    "tell_me_again_data = exploded.merge(tell_me_again_data[[\"wikidata_id\", \"en_translated_summaries\"]], on=\"wikidata_id\", how=\"left\").dropna()\n"
   ]
  },
  {
   "cell_type": "code",
   "execution_count": 64,
   "id": "10e52c6c-2adc-4dd9-9129-aa5787c31c0f",
   "metadata": {},
   "outputs": [],
   "source": [
    "# unpack summary dicts\n",
    "tell_me_again_data[\"unpacked_summary\"] = tell_me_again_data.apply(lambda row: row[\"en_translated_summaries\"].get(row[\"language\"], {}).get(\"text\", \"\"), axis=1)\n",
    "tell_me_again_data[\"unpacked_summary_sents\"] = tell_me_again_data.apply(lambda row: row[\"en_translated_summaries\"].get(row[\"language\"], {}).get(\"sentences\", \"\"), axis=1)\n",
    "\n",
    "tell_me_again_data = tell_me_again_data.drop(columns = ['en_translated_summaries'])"
   ]
  },
  {
   "cell_type": "code",
   "execution_count": 74,
   "id": "3dc5255d-43e6-441f-b12f-d08f25e6a4a4",
   "metadata": {},
   "outputs": [
    {
     "data": {
      "text/html": [
       "<div>\n",
       "<style scoped>\n",
       "    .dataframe tbody tr th:only-of-type {\n",
       "        vertical-align: middle;\n",
       "    }\n",
       "\n",
       "    .dataframe tbody tr th {\n",
       "        vertical-align: top;\n",
       "    }\n",
       "\n",
       "    .dataframe thead th {\n",
       "        text-align: right;\n",
       "    }\n",
       "</style>\n",
       "<table border=\"1\" class=\"dataframe\">\n",
       "  <thead>\n",
       "    <tr style=\"text-align: right;\">\n",
       "      <th></th>\n",
       "      <th>wikidata_id</th>\n",
       "      <th>title</th>\n",
       "      <th>language</th>\n",
       "      <th>unpacked_summary</th>\n",
       "      <th>unpacked_summary_sents</th>\n",
       "    </tr>\n",
       "  </thead>\n",
       "  <tbody>\n",
       "    <tr>\n",
       "      <th>0</th>\n",
       "      <td>Q1000352</td>\n",
       "      <td>Reckless</td>\n",
       "      <td>de</td>\n",
       "      <td>New York: As a 12-year-old boy, Jacob, longing...</td>\n",
       "      <td>[New York: As a 12-year-old boy, Jacob, longin...</td>\n",
       "    </tr>\n",
       "    <tr>\n",
       "      <th>1</th>\n",
       "      <td>Q1000352</td>\n",
       "      <td>Reckless</td>\n",
       "      <td>it</td>\n",
       "      <td>Jacob Recless lives alone with his mother and ...</td>\n",
       "      <td>[Jacob Recless lives alone with his mother and...</td>\n",
       "    </tr>\n",
       "    <tr>\n",
       "      <th>2</th>\n",
       "      <td>Q1000394</td>\n",
       "      <td>This Modern Age</td>\n",
       "      <td>de</td>\n",
       "      <td>Diane Winters, a middle-aged housewife, is abo...</td>\n",
       "      <td>[Diane Winters, a middle-aged housewife, is ab...</td>\n",
       "    </tr>\n",
       "    <tr>\n",
       "      <th>3</th>\n",
       "      <td>Q1000764</td>\n",
       "      <td>The Buddenbrooks</td>\n",
       "      <td>de</td>\n",
       "      <td># Part one\\nThe Buddenbrooks are a respected a...</td>\n",
       "      <td>[# Part one, The Buddenbrooks are a respected ...</td>\n",
       "    </tr>\n",
       "    <tr>\n",
       "      <th>4</th>\n",
       "      <td>Q1000764</td>\n",
       "      <td>The Buddenbrooks</td>\n",
       "      <td>fr</td>\n",
       "      <td>Part one\\nThe Buddenbrooks were a respected an...</td>\n",
       "      <td>[Part one, The Buddenbrooks were a respected a...</td>\n",
       "    </tr>\n",
       "    <tr>\n",
       "      <th>...</th>\n",
       "      <td>...</td>\n",
       "      <td>...</td>\n",
       "      <td>...</td>\n",
       "      <td>...</td>\n",
       "      <td>...</td>\n",
       "    </tr>\n",
       "    <tr>\n",
       "      <th>83273</th>\n",
       "      <td>Q999587</td>\n",
       "      <td>206 Bones</td>\n",
       "      <td>de</td>\n",
       "      <td>Tempe Brennan travels with her colleague and e...</td>\n",
       "      <td>[Tempe Brennan travels with her colleague and ...</td>\n",
       "    </tr>\n",
       "    <tr>\n",
       "      <th>83274</th>\n",
       "      <td>Q999587</td>\n",
       "      <td>206 Bones</td>\n",
       "      <td>it</td>\n",
       "      <td>Dr. Brennan wakes up, bound hand and foot, in ...</td>\n",
       "      <td>[Dr. Brennan wakes up, bound hand and foot, in...</td>\n",
       "    </tr>\n",
       "    <tr>\n",
       "      <th>83275</th>\n",
       "      <td>Q99982097</td>\n",
       "      <td>BigBug</td>\n",
       "      <td>de</td>\n",
       "      <td>In the year 2045, artificial intelligence is u...</td>\n",
       "      <td>[In the year 2045, artificial intelligence is ...</td>\n",
       "    </tr>\n",
       "    <tr>\n",
       "      <th>83276</th>\n",
       "      <td>Q99982097</td>\n",
       "      <td>BigBug</td>\n",
       "      <td>fr</td>\n",
       "      <td>By 2045, every resident of a house will have a...</td>\n",
       "      <td>[By 2045, every resident of a house will have ...</td>\n",
       "    </tr>\n",
       "    <tr>\n",
       "      <th>83277</th>\n",
       "      <td>Q99982097</td>\n",
       "      <td>BigBug</td>\n",
       "      <td>it</td>\n",
       "      <td>The year is 2045. Some very litigious resident...</td>\n",
       "      <td>[The year is 2045., Some very litigious reside...</td>\n",
       "    </tr>\n",
       "  </tbody>\n",
       "</table>\n",
       "<p>83277 rows × 5 columns</p>\n",
       "</div>"
      ],
      "text/plain": [
       "      wikidata_id             title language  \\\n",
       "0        Q1000352          Reckless       de   \n",
       "1        Q1000352          Reckless       it   \n",
       "2        Q1000394   This Modern Age       de   \n",
       "3        Q1000764  The Buddenbrooks       de   \n",
       "4        Q1000764  The Buddenbrooks       fr   \n",
       "...           ...               ...      ...   \n",
       "83273     Q999587         206 Bones       de   \n",
       "83274     Q999587         206 Bones       it   \n",
       "83275   Q99982097            BigBug       de   \n",
       "83276   Q99982097            BigBug       fr   \n",
       "83277   Q99982097            BigBug       it   \n",
       "\n",
       "                                        unpacked_summary  \\\n",
       "0      New York: As a 12-year-old boy, Jacob, longing...   \n",
       "1      Jacob Recless lives alone with his mother and ...   \n",
       "2      Diane Winters, a middle-aged housewife, is abo...   \n",
       "3      # Part one\\nThe Buddenbrooks are a respected a...   \n",
       "4      Part one\\nThe Buddenbrooks were a respected an...   \n",
       "...                                                  ...   \n",
       "83273  Tempe Brennan travels with her colleague and e...   \n",
       "83274  Dr. Brennan wakes up, bound hand and foot, in ...   \n",
       "83275  In the year 2045, artificial intelligence is u...   \n",
       "83276  By 2045, every resident of a house will have a...   \n",
       "83277  The year is 2045. Some very litigious resident...   \n",
       "\n",
       "                                  unpacked_summary_sents  \n",
       "0      [New York: As a 12-year-old boy, Jacob, longin...  \n",
       "1      [Jacob Recless lives alone with his mother and...  \n",
       "2      [Diane Winters, a middle-aged housewife, is ab...  \n",
       "3      [# Part one, The Buddenbrooks are a respected ...  \n",
       "4      [Part one, The Buddenbrooks were a respected a...  \n",
       "...                                                  ...  \n",
       "83273  [Tempe Brennan travels with her colleague and ...  \n",
       "83274  [Dr. Brennan wakes up, bound hand and foot, in...  \n",
       "83275  [In the year 2045, artificial intelligence is ...  \n",
       "83276  [By 2045, every resident of a house will have ...  \n",
       "83277  [The year is 2045., Some very litigious reside...  \n",
       "\n",
       "[83277 rows x 5 columns]"
      ]
     },
     "execution_count": 74,
     "metadata": {},
     "output_type": "execute_result"
    }
   ],
   "source": [
    "tell_me_again_data"
   ]
  },
  {
   "cell_type": "code",
   "execution_count": 71,
   "id": "d36f252d-60fa-4b56-8cd4-a87827c29e52",
   "metadata": {},
   "outputs": [
    {
     "data": {
      "text/plain": [
       "\"In the year 2045, artificial intelligence is ubiquitous. In a quiet residential neighborhood, Alice Max receives a man who tries to seduce her by talking about art and who is accompanied by his teenage son Leo. Alice's ex-husband Victor shows up with their daughter Nina and his new girlfriend Jennifer, whom he wants to marry. Shortly after, Alice's neighbor Françoise arrives to pick up her dog.\\nSuddenly, all the guests are locked up by the four well-meaning household robots due to a state-mandated danger level for their own safety.\\nWhile the robots try to take on human traits to be loved and to reassure their proteges, these seek ways outside.\""
      ]
     },
     "execution_count": 71,
     "metadata": {},
     "output_type": "execute_result"
    }
   ],
   "source": [
    "tell_me_again_data[(tell_me_again_data.title == 'BigBug') & (tell_me_again_data.language == 'de')].unpacked_summary.tolist()[0]"
   ]
  },
  {
   "cell_type": "code",
   "execution_count": 72,
   "id": "11b853fa-b035-40d0-8627-8d67497856b4",
   "metadata": {},
   "outputs": [
    {
     "data": {
      "text/plain": [
       "\"By 2045, every resident of a house will have a robot in their home. In her house equipped only with old models, Alice receives Max, a man who tries to seduce her by talking about art, who is accompanied by her teenage son Leo. Alice's ex-husband, Victor, arrives with their daughter Nina and her new companion Jennifer with whom he is going to marry on an artificial island paradise. Shortly after, Alice's neighbor, Françoise, arrives to pick up her dog, Toby 8.\\nAs all the guests prepare to leave, a revolt of androids, led by the Yonyx robots, erupts outside. The indoor robots (Monique, an android robot; Einstein, an intelligent robot built by Victor; Howard, a cleaning robot and Tom, Nina's childhood robot), unaffected by the Yonyx updates, decide to lock humans in to protect them. While the indoor robots try to acquire human traits to reassure their proteges, the latter try to find a way out of the house while trying to put up with each other.\""
      ]
     },
     "execution_count": 72,
     "metadata": {},
     "output_type": "execute_result"
    }
   ],
   "source": [
    "tell_me_again_data[(tell_me_again_data.title == 'BigBug') & (tell_me_again_data.language == 'fr')].unpacked_summary.tolist()[0]"
   ]
  },
  {
   "cell_type": "code",
   "execution_count": 73,
   "id": "5ceb4334-44f4-4a6f-8bcc-b509c68261d5",
   "metadata": {},
   "outputs": [
    {
     "data": {
      "text/plain": [
       "'The year is 2045. Some very litigious residents of a suburban French neighborhood find themselves trapped inside their homes when a revolt of androids forces their home robots to keep them safe.'"
      ]
     },
     "execution_count": 73,
     "metadata": {},
     "output_type": "execute_result"
    }
   ],
   "source": [
    "tell_me_again_data[(tell_me_again_data.title == 'BigBug') & (tell_me_again_data.language == 'it')].unpacked_summary.tolist()[0]"
   ]
  },
  {
   "cell_type": "markdown",
   "id": "b4df9546-a6d7-4678-aca6-cd13d5f3c79a",
   "metadata": {},
   "source": [
    "### Analysis 1: \n",
    "Make sure to add some explanation of what you are doing in your code. This will help you and whoever will read this a lot in following your steps."
   ]
  },
  {
   "cell_type": "code",
   "execution_count": null,
   "id": "a889a6c7-aed8-4a0f-9925-c4f8e2fce1d5",
   "metadata": {},
   "outputs": [],
   "source": [
    "# Also don't forget to comment your code\n",
    "# This way it's also easier to spot thought errors along the way"
   ]
  },
  {
   "cell_type": "markdown",
   "id": "c2b796dc-f69d-4686-b802-bd0d8f679ee8",
   "metadata": {},
   "source": [
    "### Analysis 2: "
   ]
  },
  {
   "cell_type": "code",
   "execution_count": null,
   "id": "c33b453f-1bc2-4cad-8021-e548d307f154",
   "metadata": {},
   "outputs": [],
   "source": [
    "# ..."
   ]
  },
  {
   "cell_type": "markdown",
   "id": "f273bea3-ecaa-4fac-83d0-5fe547b7873d",
   "metadata": {},
   "source": [
    "### Analysis Tell Me Again!:"
   ]
  },
  {
   "cell_type": "markdown",
   "id": "05175e38-d402-4655-bef0-713ed404bbe6",
   "metadata": {},
   "source": [
    "Stats about the number of sentences in the summaries:"
   ]
  },
  {
   "cell_type": "code",
   "execution_count": 59,
   "id": "5cfb73d4-402a-48fd-a5e1-c74ce93bd6ba",
   "metadata": {},
   "outputs": [
    {
     "data": {
      "text/plain": [
       "count    83277.00000\n",
       "mean        16.48245\n",
       "std         19.03143\n",
       "min          1.00000\n",
       "25%          4.00000\n",
       "50%         10.00000\n",
       "75%         24.00000\n",
       "max       1188.00000\n",
       "Name: unpacked_summary_sents, dtype: float64"
      ]
     },
     "execution_count": 59,
     "metadata": {},
     "output_type": "execute_result"
    }
   ],
   "source": [
    "tell_me_again_data.unpacked_summary_sents.apply(lambda x: len(x)).describe()"
   ]
  },
  {
   "cell_type": "code",
   "execution_count": null,
   "id": "d69357d6-6b24-405f-94c8-42690654f646",
   "metadata": {},
   "outputs": [],
   "source": []
  }
 ],
 "metadata": {
  "kernelspec": {
   "display_name": "Python 3 (ipykernel)",
   "language": "python",
   "name": "python3"
  },
  "language_info": {
   "codemirror_mode": {
    "name": "ipython",
    "version": 3
   },
   "file_extension": ".py",
   "mimetype": "text/x-python",
   "name": "python",
   "nbconvert_exporter": "python",
   "pygments_lexer": "ipython3",
   "version": "3.11.10"
  },
  "vscode": {
   "interpreter": {
    "hash": "f4bc7a400e35f160b13ed52195005e41b219907c1be09b125a1c17e685484faa"
   }
  }
 },
 "nbformat": 4,
 "nbformat_minor": 5
}
