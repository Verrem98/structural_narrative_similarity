{
 "cells": [
  {
   "cell_type": "markdown",
   "id": "5e25ea09-74d6-47e6-bad6-e922f52c3532",
   "metadata": {},
   "source": [
    "# Personal Information\n",
    "Name: **Emiel Verhoef**\n",
    "\n",
    "StudentID: **15617483**\n",
    "\n",
    "Email: [**emiel.verhoef@student.uva.nl**](emiel.verhoef@student.uva.nl)\n",
    "\n",
    "Submitted on: **23.03.2025**\n",
    "\n",
    "Github: https://github.com/Verrem98/structural_narrative_similarity"
   ]
  },
  {
   "cell_type": "markdown",
   "id": "e3cf6243-adfe-4eb8-bba3-bb2835079abd",
   "metadata": {},
   "source": [
    "# Data Context\n",
    "Current popular techniques for similarity between narratives often use surface level semantics and do not explicitly take any other features of the narrative into account (see BERT, Splade, ColBERT etc.). We will look at narrative structure (relationships between entities and actions, and possibly their ordering) as an indicator for similarity. The accuracy of this structural narrative similarity can be calculated by reframing it as in information retrieval task, fetching the most similar narratives to a query narrative.\n",
    "In this EDA we will look at two different datasets:\n",
    "\n",
    "### Story Similarity Data (https://cs.uky.edu/~sgware/projects/storysimilarity/index.php)\n",
    "This dataset consists of 512 annotations of [reference_story, story A, story B, participant_id, choice] where the choice column indicates which story, out of story A and B, is most similar to the reference story according to the participant. The reference stories have been artificially generated. An example:\n",
    "\n",
    "\"Tom walks to the Crossroads.\n",
    "\n",
    "Tom walks to the Market.\n",
    "\n",
    "Tom buys the Merchant's Sword from the Merchant using his coin.\n",
    "\n",
    "Tom robs The Merchant and takes the Potion.\n",
    "\n",
    "Tom walks to the Crossroads.\n",
    "\n",
    "Tom walks to his Cottage.\"\n",
    "\n",
    "### Tell Me Again! (https://github.com/uhh-lt/tell-me-again)\n",
    "\n",
    "This dataset consists of 96831 individial summaries of movie plots across 9505 unique movies. The summaries were taken from Wikipedia. Uniquely, this dataset contains multiple summaries of the same properties but written in different languages and machine translated to English. An example:\n",
    "\n",
    "\"The film is set in post-World War I Czechoslovakia in 1925: there is high unemployment and political extremists recruit followers. Professor Boskovic learns about a supernatural giant rat from an old book. It takes advantage of humans and transforms them into deaf giant monkeys that resemble humans in appearance. So the followers of the giant rat are not immediately recognizable. The giant rat wants to rule the world and infiltrates society with his loyalists. Together with a young writer and his daughter, the professor fights the project. The young writer, who has fallen in love with the professor's daughter, discovers a secret event and escapes the clutches of the giant rat at the last second. When the city government is firmly under the control of the rat people, the three agree: the professor has developed an anti-rat spray and is fighting the rodents. When he is murdered, the writer completes his work and can ultimately win.\""
   ]
  },
  {
   "cell_type": "code",
   "execution_count": 1,
   "id": "534317db-d881-4e33-a358-754e2881e8bd",
   "metadata": {},
   "outputs": [],
   "source": [
    "# Imports\n",
    "import os\n",
    "import numpy as np\n",
    "import pandas as pd\n",
    "import json"
   ]
  },
  {
   "cell_type": "markdown",
   "id": "b582b299-f599-4140-a454-bcbfdeeb273f",
   "metadata": {},
   "source": [
    "### Data Loading"
   ]
  },
  {
   "cell_type": "markdown",
   "id": "675f28c8-7a56-432f-9322-b4958bfde554",
   "metadata": {},
   "source": [
    "### Story Similarity Data"
   ]
  },
  {
   "cell_type": "code",
   "execution_count": 2,
   "id": "9f0cf9be-2cac-4227-957f-ad893212e70c",
   "metadata": {},
   "outputs": [],
   "source": [
    "story_similarity_data_annotations = pd.read_csv(\"story_similarity_data/data.csv\")\n",
    "\n",
    "data = {}\n",
    "current_section = None\n",
    "with open(\"story_similarity_data/english.txt\", \"r\") as file:\n",
    "    for line in file:\n",
    "        line = line.strip()\n",
    "        if line.isdigit(): \n",
    "            ID = int(line)\n",
    "            data[ID] = []  \n",
    "        elif line:  \n",
    "            data[ID].append(line)\n",
    "story_similarity_data_stories = pd.DataFrame(\n",
    "    {\"ID\": data.keys(), \"story\": [\" \".join(events) for events in data.values()]}\n",
    ")\n"
   ]
  },
  {
   "cell_type": "code",
   "execution_count": 3,
   "id": "04516b99-2d65-498c-9e66-8e4e0549bafd",
   "metadata": {},
   "outputs": [],
   "source": [
    "def fetch_story(df, ID):\n",
    "\n",
    "    return df[df['ID'] == ID].story.tolist()[0]"
   ]
  },
  {
   "cell_type": "code",
   "execution_count": 4,
   "id": "985366d9-9588-4fbc-967a-945e053acb2e",
   "metadata": {},
   "outputs": [],
   "source": [
    "story_similarity_data = story_similarity_data_annotations.copy()"
   ]
  },
  {
   "cell_type": "code",
   "execution_count": 5,
   "id": "9b081353-cb6c-459d-af3f-32e10969e0d3",
   "metadata": {},
   "outputs": [],
   "source": [
    "story_similarity_data[\"story_reference\"] = story_similarity_data[\"reference\"].apply(lambda x: fetch_story(story_similarity_data_stories, x))\n",
    "story_similarity_data[\"story_A\"] = story_similarity_data[\"A\"].apply(lambda x: fetch_story(story_similarity_data_stories, x))\n",
    "story_similarity_data[\"story_B\"] = story_similarity_data[\"B\"].apply(lambda x: fetch_story(story_similarity_data_stories, x))"
   ]
  },
  {
   "cell_type": "code",
   "execution_count": 6,
   "id": "29577fe8-7c5b-48f4-8530-780c90db30ff",
   "metadata": {},
   "outputs": [
    {
     "data": {
      "text/plain": [
       "'A'"
      ]
     },
     "execution_count": 6,
     "metadata": {},
     "output_type": "execute_result"
    }
   ],
   "source": [
    "story_similarity_data.iloc[0].choice"
   ]
  },
  {
   "cell_type": "code",
   "execution_count": 7,
   "id": "dedde554-cbdf-4305-ac1b-3c5578f0afe4",
   "metadata": {},
   "outputs": [
    {
     "data": {
      "text/plain": [
       "'The Bandit walks to the Market. Tom walks to the Crossroads. The Bandit walks to the Crossroads. The Guard walks to the Crossroads. The Bandit attacks Tom.'"
      ]
     },
     "execution_count": 7,
     "metadata": {},
     "output_type": "execute_result"
    }
   ],
   "source": [
    "story_similarity_data.iloc[0].story_reference"
   ]
  },
  {
   "cell_type": "code",
   "execution_count": 8,
   "id": "53c74b53-c786-4b70-b21b-0d17414d3278",
   "metadata": {},
   "outputs": [
    {
     "data": {
      "text/plain": [
       "\"Tom walks to the Crossroads. Tom walks to the Merchant's House. The Bandit walks to the Merchant's House. The Bandit attacks Tom.\""
      ]
     },
     "execution_count": 8,
     "metadata": {},
     "output_type": "execute_result"
    }
   ],
   "source": [
    "story_similarity_data.iloc[0].story_A"
   ]
  },
  {
   "cell_type": "code",
   "execution_count": 9,
   "id": "6d310e33-1cc6-4a9c-b668-2cb671a22b5f",
   "metadata": {},
   "outputs": [
    {
     "data": {
      "text/plain": [
       "'Tom walks to the Crossroads. Tom walks to the Market. Tom buys the Potion from the Merchant using his coin. Tom waits for night. Later that night, Tom walks to the Crossroads. Tom walks to his Cottage.'"
      ]
     },
     "execution_count": 9,
     "metadata": {},
     "output_type": "execute_result"
    }
   ],
   "source": [
    "story_similarity_data.iloc[0].story_B"
   ]
  },
  {
   "cell_type": "code",
   "execution_count": 10,
   "id": "7180841f-5454-47a2-8d70-0219516ea23c",
   "metadata": {},
   "outputs": [
    {
     "data": {
      "text/html": [
       "<div>\n",
       "<style scoped>\n",
       "    .dataframe tbody tr th:only-of-type {\n",
       "        vertical-align: middle;\n",
       "    }\n",
       "\n",
       "    .dataframe tbody tr th {\n",
       "        vertical-align: top;\n",
       "    }\n",
       "\n",
       "    .dataframe thead th {\n",
       "        text-align: right;\n",
       "    }\n",
       "</style>\n",
       "<table border=\"1\" class=\"dataframe\">\n",
       "  <thead>\n",
       "    <tr style=\"text-align: right;\">\n",
       "      <th></th>\n",
       "      <th>reference</th>\n",
       "      <th>A</th>\n",
       "      <th>B</th>\n",
       "      <th>participant</th>\n",
       "      <th>choice</th>\n",
       "      <th>story_reference</th>\n",
       "      <th>story_A</th>\n",
       "      <th>story_B</th>\n",
       "    </tr>\n",
       "  </thead>\n",
       "  <tbody>\n",
       "    <tr>\n",
       "      <th>0</th>\n",
       "      <td>3</td>\n",
       "      <td>56</td>\n",
       "      <td>4</td>\n",
       "      <td>1</td>\n",
       "      <td>A</td>\n",
       "      <td>The Bandit walks to the Market. Tom walks to t...</td>\n",
       "      <td>Tom walks to the Crossroads. Tom walks to the ...</td>\n",
       "      <td>Tom walks to the Crossroads. Tom walks to the ...</td>\n",
       "    </tr>\n",
       "    <tr>\n",
       "      <th>1</th>\n",
       "      <td>3</td>\n",
       "      <td>56</td>\n",
       "      <td>4</td>\n",
       "      <td>2</td>\n",
       "      <td>A</td>\n",
       "      <td>The Bandit walks to the Market. Tom walks to t...</td>\n",
       "      <td>Tom walks to the Crossroads. Tom walks to the ...</td>\n",
       "      <td>Tom walks to the Crossroads. Tom walks to the ...</td>\n",
       "    </tr>\n",
       "    <tr>\n",
       "      <th>2</th>\n",
       "      <td>3</td>\n",
       "      <td>56</td>\n",
       "      <td>4</td>\n",
       "      <td>3</td>\n",
       "      <td>A</td>\n",
       "      <td>The Bandit walks to the Market. Tom walks to t...</td>\n",
       "      <td>Tom walks to the Crossroads. Tom walks to the ...</td>\n",
       "      <td>Tom walks to the Crossroads. Tom walks to the ...</td>\n",
       "    </tr>\n",
       "    <tr>\n",
       "      <th>3</th>\n",
       "      <td>3</td>\n",
       "      <td>56</td>\n",
       "      <td>4</td>\n",
       "      <td>4</td>\n",
       "      <td>A</td>\n",
       "      <td>The Bandit walks to the Market. Tom walks to t...</td>\n",
       "      <td>Tom walks to the Crossroads. Tom walks to the ...</td>\n",
       "      <td>Tom walks to the Crossroads. Tom walks to the ...</td>\n",
       "    </tr>\n",
       "    <tr>\n",
       "      <th>4</th>\n",
       "      <td>3</td>\n",
       "      <td>56</td>\n",
       "      <td>4</td>\n",
       "      <td>5</td>\n",
       "      <td>A</td>\n",
       "      <td>The Bandit walks to the Market. Tom walks to t...</td>\n",
       "      <td>Tom walks to the Crossroads. Tom walks to the ...</td>\n",
       "      <td>Tom walks to the Crossroads. Tom walks to the ...</td>\n",
       "    </tr>\n",
       "    <tr>\n",
       "      <th>...</th>\n",
       "      <td>...</td>\n",
       "      <td>...</td>\n",
       "      <td>...</td>\n",
       "      <td>...</td>\n",
       "      <td>...</td>\n",
       "      <td>...</td>\n",
       "      <td>...</td>\n",
       "      <td>...</td>\n",
       "    </tr>\n",
       "    <tr>\n",
       "      <th>507</th>\n",
       "      <td>5</td>\n",
       "      <td>42</td>\n",
       "      <td>41</td>\n",
       "      <td>60</td>\n",
       "      <td>A</td>\n",
       "      <td>Tom waits for night. Later that night, Tom wal...</td>\n",
       "      <td>The Bandit walks to the Market. Tom walks to t...</td>\n",
       "      <td>Tom walks to the Crossroads. The Bandit attack...</td>\n",
       "    </tr>\n",
       "    <tr>\n",
       "      <th>508</th>\n",
       "      <td>5</td>\n",
       "      <td>42</td>\n",
       "      <td>41</td>\n",
       "      <td>61</td>\n",
       "      <td>A</td>\n",
       "      <td>Tom waits for night. Later that night, Tom wal...</td>\n",
       "      <td>The Bandit walks to the Market. Tom walks to t...</td>\n",
       "      <td>Tom walks to the Crossroads. The Bandit attack...</td>\n",
       "    </tr>\n",
       "    <tr>\n",
       "      <th>509</th>\n",
       "      <td>5</td>\n",
       "      <td>42</td>\n",
       "      <td>41</td>\n",
       "      <td>62</td>\n",
       "      <td>A</td>\n",
       "      <td>Tom waits for night. Later that night, Tom wal...</td>\n",
       "      <td>The Bandit walks to the Market. Tom walks to t...</td>\n",
       "      <td>Tom walks to the Crossroads. The Bandit attack...</td>\n",
       "    </tr>\n",
       "    <tr>\n",
       "      <th>510</th>\n",
       "      <td>5</td>\n",
       "      <td>42</td>\n",
       "      <td>41</td>\n",
       "      <td>63</td>\n",
       "      <td>A</td>\n",
       "      <td>Tom waits for night. Later that night, Tom wal...</td>\n",
       "      <td>The Bandit walks to the Market. Tom walks to t...</td>\n",
       "      <td>Tom walks to the Crossroads. The Bandit attack...</td>\n",
       "    </tr>\n",
       "    <tr>\n",
       "      <th>511</th>\n",
       "      <td>5</td>\n",
       "      <td>42</td>\n",
       "      <td>41</td>\n",
       "      <td>64</td>\n",
       "      <td>A</td>\n",
       "      <td>Tom waits for night. Later that night, Tom wal...</td>\n",
       "      <td>The Bandit walks to the Market. Tom walks to t...</td>\n",
       "      <td>Tom walks to the Crossroads. The Bandit attack...</td>\n",
       "    </tr>\n",
       "  </tbody>\n",
       "</table>\n",
       "<p>512 rows × 8 columns</p>\n",
       "</div>"
      ],
      "text/plain": [
       "     reference   A   B  participant choice  \\\n",
       "0            3  56   4            1      A   \n",
       "1            3  56   4            2      A   \n",
       "2            3  56   4            3      A   \n",
       "3            3  56   4            4      A   \n",
       "4            3  56   4            5      A   \n",
       "..         ...  ..  ..          ...    ...   \n",
       "507          5  42  41           60      A   \n",
       "508          5  42  41           61      A   \n",
       "509          5  42  41           62      A   \n",
       "510          5  42  41           63      A   \n",
       "511          5  42  41           64      A   \n",
       "\n",
       "                                       story_reference  \\\n",
       "0    The Bandit walks to the Market. Tom walks to t...   \n",
       "1    The Bandit walks to the Market. Tom walks to t...   \n",
       "2    The Bandit walks to the Market. Tom walks to t...   \n",
       "3    The Bandit walks to the Market. Tom walks to t...   \n",
       "4    The Bandit walks to the Market. Tom walks to t...   \n",
       "..                                                 ...   \n",
       "507  Tom waits for night. Later that night, Tom wal...   \n",
       "508  Tom waits for night. Later that night, Tom wal...   \n",
       "509  Tom waits for night. Later that night, Tom wal...   \n",
       "510  Tom waits for night. Later that night, Tom wal...   \n",
       "511  Tom waits for night. Later that night, Tom wal...   \n",
       "\n",
       "                                               story_A  \\\n",
       "0    Tom walks to the Crossroads. Tom walks to the ...   \n",
       "1    Tom walks to the Crossroads. Tom walks to the ...   \n",
       "2    Tom walks to the Crossroads. Tom walks to the ...   \n",
       "3    Tom walks to the Crossroads. Tom walks to the ...   \n",
       "4    Tom walks to the Crossroads. Tom walks to the ...   \n",
       "..                                                 ...   \n",
       "507  The Bandit walks to the Market. Tom walks to t...   \n",
       "508  The Bandit walks to the Market. Tom walks to t...   \n",
       "509  The Bandit walks to the Market. Tom walks to t...   \n",
       "510  The Bandit walks to the Market. Tom walks to t...   \n",
       "511  The Bandit walks to the Market. Tom walks to t...   \n",
       "\n",
       "                                               story_B  \n",
       "0    Tom walks to the Crossroads. Tom walks to the ...  \n",
       "1    Tom walks to the Crossroads. Tom walks to the ...  \n",
       "2    Tom walks to the Crossroads. Tom walks to the ...  \n",
       "3    Tom walks to the Crossroads. Tom walks to the ...  \n",
       "4    Tom walks to the Crossroads. Tom walks to the ...  \n",
       "..                                                 ...  \n",
       "507  Tom walks to the Crossroads. The Bandit attack...  \n",
       "508  Tom walks to the Crossroads. The Bandit attack...  \n",
       "509  Tom walks to the Crossroads. The Bandit attack...  \n",
       "510  Tom walks to the Crossroads. The Bandit attack...  \n",
       "511  Tom walks to the Crossroads. The Bandit attack...  \n",
       "\n",
       "[512 rows x 8 columns]"
      ]
     },
     "execution_count": 10,
     "metadata": {},
     "output_type": "execute_result"
    }
   ],
   "source": [
    "story_similarity_data"
   ]
  },
  {
   "cell_type": "markdown",
   "id": "693c5214-9bda-45c5-b2dc-d2e56f9225d5",
   "metadata": {},
   "source": [
    "### Tell Me Again!"
   ]
  },
  {
   "cell_type": "code",
   "execution_count": 11,
   "id": "4c887c9c-2086-46bb-9e8b-3ed4b03cf56a",
   "metadata": {},
   "outputs": [],
   "source": [
    "def load_all_json_files(root_folder):\n",
    "    data_dict = {}\n",
    "    \n",
    "    for subdir, _, files in os.walk(root_folder):\n",
    "        for filename in files:\n",
    "            if filename.endswith(\".json\"):\n",
    "                file_path = os.path.join(subdir, filename)\n",
    "                try:\n",
    "                    with open(file_path, 'r', encoding='utf-8') as f:\n",
    "                        data_dict[file_path] = json.load(f)\n",
    "                except json.JSONDecodeError as e:\n",
    "                    print(f\"Error loading {file_path}: {e}\")\n",
    "    \n",
    "    return data_dict\n",
    "\n",
    "root_folder = \"tell_me_again_v1/summaries\"\n",
    "json_data = load_all_json_files(root_folder)"
   ]
  },
  {
   "cell_type": "code",
   "execution_count": 12,
   "id": "6054882d-b0bf-4343-9ed3-daef3a9c8b02",
   "metadata": {},
   "outputs": [],
   "source": [
    "tell_me_again_data = pd.DataFrame(json_data).T"
   ]
  },
  {
   "cell_type": "code",
   "execution_count": 13,
   "id": "6f8f8c62-de04-431a-aba6-d9de0263407b",
   "metadata": {},
   "outputs": [],
   "source": [
    "tell_me_again_data = tell_me_again_data[[\"wikidata_id\", \"title\", \"en_translated_summaries\"]]\n",
    "# create rows for every unique language summary\n",
    "exploded = tell_me_again_data.explode('en_translated_summaries').rename(columns = {'en_translated_summaries':'language'})"
   ]
  },
  {
   "cell_type": "code",
   "execution_count": 14,
   "id": "15431b81-27eb-4ff5-8c44-e5346c138a84",
   "metadata": {},
   "outputs": [],
   "source": [
    "tell_me_again_data = exploded.merge(tell_me_again_data[[\"wikidata_id\", \"en_translated_summaries\"]], on=\"wikidata_id\", how=\"left\").dropna()\n"
   ]
  },
  {
   "cell_type": "code",
   "execution_count": 15,
   "id": "10e52c6c-2adc-4dd9-9129-aa5787c31c0f",
   "metadata": {},
   "outputs": [],
   "source": [
    "# unpack summary dicts\n",
    "tell_me_again_data[\"unpacked_summary\"] = tell_me_again_data.apply(lambda row: row[\"en_translated_summaries\"].get(row[\"language\"], {}).get(\"text\", \"\"), axis=1)\n",
    "tell_me_again_data[\"unpacked_summary_sents\"] = tell_me_again_data.apply(lambda row: row[\"en_translated_summaries\"].get(row[\"language\"], {}).get(\"sentences\", \"\"), axis=1)\n",
    "\n",
    "tell_me_again_data = tell_me_again_data.drop(columns = ['en_translated_summaries'])"
   ]
  },
  {
   "cell_type": "code",
   "execution_count": 53,
   "id": "a4f975b5-54b7-44cf-8f34-cbbdf2aaca02",
   "metadata": {},
   "outputs": [
    {
     "name": "stdout",
     "output_type": "stream",
     "text": [
      "IT to English summary:\n",
      "\n",
      "In the Florida home owned by widow Helen, the air conditioner is broken. This infuriates the tenant, retired sea captain Frank, whose son sent him a double-sided hat for his seventy-fifth birthday. Frank seeks refreshment in a bookstore, but is banished to the cinema, where he chats with the elegant and well-dressed Georgia. Disappointed by his son's late arrival, Frank meets Walt, another lonely pensioner, at the park, with whom he goes to the snack where the latter invariably orders bacon sandwiches to the pretty Elaine, of whom he is a devoted admirer and, who accompanies him home on the bus after work.\n",
      "It's the Fourth of July, and to see the fireworks, the two use Frank's tent, disappointed that his son has canceled the planned visit. Meanwhile, they become friends: Walt reveals himself to be a Cuban exile, and Frank lingers to recall his first love encounter and his four marriages. Because on Saturday, Georgia, very elegant, escapes the shabby Frank, his friend Walt shaves him and fixes his hair so well that Frank is even hired as a mask at the cinema, where he reenacts the assault on Georgia, with the same result. Meanwhile, Elaine's about to marry a Marine and move in, and the two of them are going to say goodbye.\n",
      "Frank gives her, against Walt's advice, a bottle of vodka, which she politely refuses. Then Frank tries to court Helen, and once he succeeds, he confides his helplessness to her, asking her to host him brotherly. After reconciling, Frank and Walt decide to go to a dance party, after Walt brings his last greeting and gift to Elaine. But when he goes to get it, Walt finds Frank dead. After putting him back together and saying goodbye, he goes to the party, where he dances with an elderly lady.\n",
      "\n",
      "FR to English summary:\n",
      "\n",
      "Frank and Walter, two retirees, meet, sympathize, end up arguing and then getting angry after sowing the weeds in their (small) entourage...\n",
      "\n",
      "DE to English summary:\n",
      "\n",
      "Walter is a single Cuban hairdresser living out his retirement in Florida. Frank, a former sailor, was deported by his son to a retirement apartment complex run by the determined Helen Cooney. It's July and very hot. The air conditioning in Frank's living room is not working, and he's seeking cooling in the air-conditioned movie theater, where he's watching the afternoon shows with the lonely lady Georgia. In a park by the sea, he meets Walter, who solves crossword puzzles. Frank is a rude, noisy, lonely man who, without being asked, tells everyone his anecdote of how, in 1938, as a young captain, he defeated Ernest Hemingway in a wrestling match in Puerto Rico. Walter is an elegant old gentleman who never curses and adores the young waitress Elaine. Walter and Frank are two very different old people who nevertheless befriend each other in their loneliness. Walter's taking Frank to the fast-food joint where Elaine works. Frank takes Walter on his tandem to see the fireworks for the Fourth of July, America's Independence Day.\n",
      "Walter's never been married, and Frank boasts about his stories of wives he still pretends to have. While Walter dances alone at home and prepares for the annual dance party, Frank dreams of his last women's adventure. Ageing affects both in different ways. Walter's world collapses when he learns that his beloved Elaine is getting married and moving. The parting gift for Elaine leads to a fight between Walter and Frank. Both will now realize how important friends are in life and that neither has ever had any real friends in life. To reconcile, Frank arranges for Walter to meet Elaine one more time to say goodbye. Walter had dreamed of going to the dance with Elaine, but agrees with her marriage plans and leaves his parting gift on the table. To reconcile with Frank, he invites the old sailor to the dance. When he goes to pick him up from his apartment, he and the housekeeper find Helen Frank peacefully passed away. Walter's going to the dance by himself.\n",
      "\n",
      "ES to English summary:\n",
      "\n",
      "Two lonely old men named Frank (Richard Harris), a tough Irish ex-marine captain, and Walter (Robert Duvall), a retired hairdresser of Cuban origin, meet in a Florida park. From that moment on they begin to have long conversations in which they share their memories, ideals and thoughts of their now distant youth. Although they seem to have very little in common, they are inextricably bound together by the fear of loneliness, old age, and death.\n",
      "Their initially nice friendship is broken when Frank stalks Walter's friend Elaine (Sandra Bullock). After this incident both friends will be forced to evaluate each other and try to get to know each other again.\n",
      "\n"
     ]
    }
   ],
   "source": [
    "for lang in list(set(tell_me_again_data[(tell_me_again_data.title == 'Wrestling Ernest Hemingway')].language.tolist())):\n",
    "    print(f\"{lang.upper()} to English summary:\\n\")\n",
    "    print(tell_me_again_data[(tell_me_again_data.title == 'Wrestling Ernest Hemingway') & (tell_me_again_data.language == lang)].unpacked_summary.tolist()[0])\n",
    "    print()"
   ]
  },
  {
   "cell_type": "code",
   "execution_count": 67,
   "id": "37c41847-a4fb-4730-b987-f44f1d25c2b9",
   "metadata": {},
   "outputs": [
    {
     "data": {
      "text/html": [
       "<div>\n",
       "<style scoped>\n",
       "    .dataframe tbody tr th:only-of-type {\n",
       "        vertical-align: middle;\n",
       "    }\n",
       "\n",
       "    .dataframe tbody tr th {\n",
       "        vertical-align: top;\n",
       "    }\n",
       "\n",
       "    .dataframe thead th {\n",
       "        text-align: right;\n",
       "    }\n",
       "</style>\n",
       "<table border=\"1\" class=\"dataframe\">\n",
       "  <thead>\n",
       "    <tr style=\"text-align: right;\">\n",
       "      <th></th>\n",
       "      <th>wikidata_id</th>\n",
       "      <th>title</th>\n",
       "      <th>language</th>\n",
       "      <th>unpacked_summary</th>\n",
       "      <th>unpacked_summary_sents</th>\n",
       "    </tr>\n",
       "  </thead>\n",
       "  <tbody>\n",
       "    <tr>\n",
       "      <th>0</th>\n",
       "      <td>Q1000352</td>\n",
       "      <td>Reckless</td>\n",
       "      <td>de</td>\n",
       "      <td>New York: As a 12-year-old boy, Jacob, longing...</td>\n",
       "      <td>[New York: As a 12-year-old boy, Jacob, longin...</td>\n",
       "    </tr>\n",
       "    <tr>\n",
       "      <th>1</th>\n",
       "      <td>Q1000352</td>\n",
       "      <td>Reckless</td>\n",
       "      <td>it</td>\n",
       "      <td>Jacob Recless lives alone with his mother and ...</td>\n",
       "      <td>[Jacob Recless lives alone with his mother and...</td>\n",
       "    </tr>\n",
       "    <tr>\n",
       "      <th>2</th>\n",
       "      <td>Q1000394</td>\n",
       "      <td>This Modern Age</td>\n",
       "      <td>de</td>\n",
       "      <td>Diane Winters, a middle-aged housewife, is abo...</td>\n",
       "      <td>[Diane Winters, a middle-aged housewife, is ab...</td>\n",
       "    </tr>\n",
       "    <tr>\n",
       "      <th>3</th>\n",
       "      <td>Q1000764</td>\n",
       "      <td>The Buddenbrooks</td>\n",
       "      <td>de</td>\n",
       "      <td># Part one\\nThe Buddenbrooks are a respected a...</td>\n",
       "      <td>[# Part one, The Buddenbrooks are a respected ...</td>\n",
       "    </tr>\n",
       "    <tr>\n",
       "      <th>4</th>\n",
       "      <td>Q1000764</td>\n",
       "      <td>The Buddenbrooks</td>\n",
       "      <td>fr</td>\n",
       "      <td>Part one\\nThe Buddenbrooks were a respected an...</td>\n",
       "      <td>[Part one, The Buddenbrooks were a respected a...</td>\n",
       "    </tr>\n",
       "    <tr>\n",
       "      <th>...</th>\n",
       "      <td>...</td>\n",
       "      <td>...</td>\n",
       "      <td>...</td>\n",
       "      <td>...</td>\n",
       "      <td>...</td>\n",
       "    </tr>\n",
       "    <tr>\n",
       "      <th>83273</th>\n",
       "      <td>Q999587</td>\n",
       "      <td>206 Bones</td>\n",
       "      <td>de</td>\n",
       "      <td>Tempe Brennan travels with her colleague and e...</td>\n",
       "      <td>[Tempe Brennan travels with her colleague and ...</td>\n",
       "    </tr>\n",
       "    <tr>\n",
       "      <th>83274</th>\n",
       "      <td>Q999587</td>\n",
       "      <td>206 Bones</td>\n",
       "      <td>it</td>\n",
       "      <td>Dr. Brennan wakes up, bound hand and foot, in ...</td>\n",
       "      <td>[Dr. Brennan wakes up, bound hand and foot, in...</td>\n",
       "    </tr>\n",
       "    <tr>\n",
       "      <th>83275</th>\n",
       "      <td>Q99982097</td>\n",
       "      <td>BigBug</td>\n",
       "      <td>de</td>\n",
       "      <td>In the year 2045, artificial intelligence is u...</td>\n",
       "      <td>[In the year 2045, artificial intelligence is ...</td>\n",
       "    </tr>\n",
       "    <tr>\n",
       "      <th>83276</th>\n",
       "      <td>Q99982097</td>\n",
       "      <td>BigBug</td>\n",
       "      <td>fr</td>\n",
       "      <td>By 2045, every resident of a house will have a...</td>\n",
       "      <td>[By 2045, every resident of a house will have ...</td>\n",
       "    </tr>\n",
       "    <tr>\n",
       "      <th>83277</th>\n",
       "      <td>Q99982097</td>\n",
       "      <td>BigBug</td>\n",
       "      <td>it</td>\n",
       "      <td>The year is 2045. Some very litigious resident...</td>\n",
       "      <td>[The year is 2045., Some very litigious reside...</td>\n",
       "    </tr>\n",
       "  </tbody>\n",
       "</table>\n",
       "<p>83277 rows × 5 columns</p>\n",
       "</div>"
      ],
      "text/plain": [
       "      wikidata_id             title language  \\\n",
       "0        Q1000352          Reckless       de   \n",
       "1        Q1000352          Reckless       it   \n",
       "2        Q1000394   This Modern Age       de   \n",
       "3        Q1000764  The Buddenbrooks       de   \n",
       "4        Q1000764  The Buddenbrooks       fr   \n",
       "...           ...               ...      ...   \n",
       "83273     Q999587         206 Bones       de   \n",
       "83274     Q999587         206 Bones       it   \n",
       "83275   Q99982097            BigBug       de   \n",
       "83276   Q99982097            BigBug       fr   \n",
       "83277   Q99982097            BigBug       it   \n",
       "\n",
       "                                        unpacked_summary  \\\n",
       "0      New York: As a 12-year-old boy, Jacob, longing...   \n",
       "1      Jacob Recless lives alone with his mother and ...   \n",
       "2      Diane Winters, a middle-aged housewife, is abo...   \n",
       "3      # Part one\\nThe Buddenbrooks are a respected a...   \n",
       "4      Part one\\nThe Buddenbrooks were a respected an...   \n",
       "...                                                  ...   \n",
       "83273  Tempe Brennan travels with her colleague and e...   \n",
       "83274  Dr. Brennan wakes up, bound hand and foot, in ...   \n",
       "83275  In the year 2045, artificial intelligence is u...   \n",
       "83276  By 2045, every resident of a house will have a...   \n",
       "83277  The year is 2045. Some very litigious resident...   \n",
       "\n",
       "                                  unpacked_summary_sents  \n",
       "0      [New York: As a 12-year-old boy, Jacob, longin...  \n",
       "1      [Jacob Recless lives alone with his mother and...  \n",
       "2      [Diane Winters, a middle-aged housewife, is ab...  \n",
       "3      [# Part one, The Buddenbrooks are a respected ...  \n",
       "4      [Part one, The Buddenbrooks were a respected a...  \n",
       "...                                                  ...  \n",
       "83273  [Tempe Brennan travels with her colleague and ...  \n",
       "83274  [Dr. Brennan wakes up, bound hand and foot, in...  \n",
       "83275  [In the year 2045, artificial intelligence is ...  \n",
       "83276  [By 2045, every resident of a house will have ...  \n",
       "83277  [The year is 2045., Some very litigious reside...  \n",
       "\n",
       "[83277 rows x 5 columns]"
      ]
     },
     "execution_count": 67,
     "metadata": {},
     "output_type": "execute_result"
    }
   ],
   "source": [
    "tell_me_again_data"
   ]
  },
  {
   "cell_type": "markdown",
   "id": "900e0e67-8331-40e8-b614-0a8fcdf71faa",
   "metadata": {},
   "source": [
    "#### checking the length of the texts after BERT tokenization"
   ]
  },
  {
   "cell_type": "code",
   "execution_count": 76,
   "id": "5bdc6cd6-1e51-4bd4-b2c3-b1f8bc55f7de",
   "metadata": {},
   "outputs": [
    {
     "name": "stderr",
     "output_type": "stream",
     "text": [
      "Token indices sequence length is longer than the specified maximum sequence length for this model (723 > 512). Running this sequence through the model will result in indexing errors\n"
     ]
    }
   ],
   "source": [
    "from transformers import BertTokenizer, TFBertModel\n",
    "tokenizer = BertTokenizer.from_pretrained('bert-base-uncased')\n",
    "tokenized_summaries = [tokenizer(x, return_tensors='pt').input_ids.shape[1] for x in tell_me_again_data.unpacked_summary.tolist()]\n"
   ]
  },
  {
   "cell_type": "code",
   "execution_count": 81,
   "id": "645a7e91-ae2b-4c94-9a5a-527eb984888e",
   "metadata": {},
   "outputs": [
    {
     "data": {
      "text/plain": [
       "count    83277.000000\n",
       "mean       431.674676\n",
       "std        496.204027\n",
       "min          4.000000\n",
       "25%        114.000000\n",
       "50%        268.000000\n",
       "75%        612.000000\n",
       "max      29047.000000\n",
       "Name: token_count, dtype: float64"
      ]
     },
     "execution_count": 81,
     "metadata": {},
     "output_type": "execute_result"
    }
   ],
   "source": [
    "tell_me_again_data['token_count'] = tokenized_summaries\n",
    "tell_me_again_data.token_count.describe()"
   ]
  },
  {
   "cell_type": "code",
   "execution_count": 86,
   "id": "7f240184-4707-4794-90af-8fb835cc1733",
   "metadata": {},
   "outputs": [
    {
     "data": {
      "text/plain": [
       "508.0"
      ]
     },
     "execution_count": 86,
     "metadata": {},
     "output_type": "execute_result"
    }
   ],
   "source": [
    "tell_me_again_data.token_count.quantile(0.69)"
   ]
  },
  {
   "cell_type": "markdown",
   "id": "c2b796dc-f69d-4686-b802-bd0d8f679ee8",
   "metadata": {},
   "source": [
    "## Analysis Story Similarity Data"
   ]
  },
  {
   "cell_type": "code",
   "execution_count": 21,
   "id": "c33b453f-1bc2-4cad-8021-e548d307f154",
   "metadata": {},
   "outputs": [
    {
     "data": {
      "text/plain": [
       "count    512.000000\n",
       "mean       6.125000\n",
       "std        0.331042\n",
       "min        6.000000\n",
       "25%        6.000000\n",
       "50%        6.000000\n",
       "75%        6.000000\n",
       "max        7.000000\n",
       "Name: story_reference, dtype: float64"
      ]
     },
     "execution_count": 21,
     "metadata": {},
     "output_type": "execute_result"
    }
   ],
   "source": [
    "story_similarity_data.story_reference.apply(lambda x: len(x.split(\".\"))).describe()"
   ]
  },
  {
   "cell_type": "markdown",
   "id": "a4940160-2e00-4aa2-9495-56e1e8055a49",
   "metadata": {},
   "source": [
    "The Story Similarity Data is already completely clean. While looking at the sample it is immediately clear that it does not reflect natural language in the same way that the summaries do and looks more like an ontology. This has the advantage of it already being very to the point, almost being pure structure. It does also mean that the generalizability of the dataset is much worse as it is so distinctly different from narratives in the most general sense. The narratives are also much shorter when compared to the movie summaries with the mean length only being 6 sentences long. A big advantage of this is that, when using encoder-transformer models as a baseline, we will not have to worry about exceeding the token limit of 512."
   ]
  },
  {
   "cell_type": "markdown",
   "id": "f273bea3-ecaa-4fac-83d0-5fe547b7873d",
   "metadata": {},
   "source": [
    "## Analysis Tell Me Again!"
   ]
  },
  {
   "cell_type": "code",
   "execution_count": 40,
   "id": "5cfb73d4-402a-48fd-a5e1-c74ce93bd6ba",
   "metadata": {},
   "outputs": [
    {
     "data": {
      "text/plain": [
       "count    83277.00000\n",
       "mean        16.48245\n",
       "std         19.03143\n",
       "min          1.00000\n",
       "25%          4.00000\n",
       "50%         10.00000\n",
       "75%         24.00000\n",
       "max       1188.00000\n",
       "Name: unpacked_summary_sents, dtype: float64"
      ]
     },
     "execution_count": 40,
     "metadata": {},
     "output_type": "execute_result"
    }
   ],
   "source": [
    "tell_me_again_data.unpacked_summary_sents.apply(lambda x: len(x)).describe()"
   ]
  },
  {
   "cell_type": "markdown",
   "id": "208f9632-1a78-416a-851f-0d9ee78fb0f1",
   "metadata": {},
   "source": [
    "The Tell Me Again! dataset is also already practically clean, with only a few stray '\\n' tags here and there. The creators of the datset do warn that there are some duplicates in there, but for our purpose this is not much of a problem. You can also see that there are some outliers in sentence length, which can of course be removed quite simply. The texts better reflect natural narratives than in the Story Similarity Dataset. Summaries of the same property do, somewhat surprisingly, differ a lot in content. While you would expect summaries of the same property to be the most similar to each other, these differences might be big enough for this to not be entirely true. This would cause a lower baseline performance, but does not prevent us from using it in our experiments. The higher number of sentences isn't necessarily a problem. Because there are so many summaries (~70% below 512 tokens) we can simply select all of the properties with summaries beneath a specific number of tokens/sentences if necessary."
   ]
  },
  {
   "cell_type": "markdown",
   "id": "53e99b0b-ffde-4588-b62e-64ab58c56f6f",
   "metadata": {},
   "source": [
    "## Conclusion"
   ]
  },
  {
   "cell_type": "markdown",
   "id": "efea9026-a945-4b55-b33f-aa044f2a86bb",
   "metadata": {},
   "source": [
    "Both datasets look perfectly usable for our task. Story Similarity Data represents human similarity, while Tell Me Again! represents at a more objective measure. It is entirely possible that humans do not factor structural similarity into their similarity judgement in a significant way, as some research suggests (humans preferring more directly obvious factors: the subject of the text or the writing style). Still, it will at least be interesting to experiment with."
   ]
  }
 ],
 "metadata": {
  "kernelspec": {
   "display_name": "Python 3 (ipykernel)",
   "language": "python",
   "name": "python3"
  },
  "language_info": {
   "codemirror_mode": {
    "name": "ipython",
    "version": 3
   },
   "file_extension": ".py",
   "mimetype": "text/x-python",
   "name": "python",
   "nbconvert_exporter": "python",
   "pygments_lexer": "ipython3",
   "version": "3.11.10"
  },
  "vscode": {
   "interpreter": {
    "hash": "f4bc7a400e35f160b13ed52195005e41b219907c1be09b125a1c17e685484faa"
   }
  }
 },
 "nbformat": 4,
 "nbformat_minor": 5
}
